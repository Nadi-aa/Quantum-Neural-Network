!pip install qiskit
!pip install pylatexenc

from qiskit import QuantumCircuit, Aer, QuantumRegister, ClassicalRegister, execute
from sklearn import model_selection, datasets
import numpy as np

from qiskit import QuantumCircuit, Aer, QuantumRegister, ClassicalRegister, execute
from sklearn import model_selection, datasets
import numpy as np
import pandas as pd
from sklearn.preprocessing import LabelEncoder
import copy
from qiskit.visualization import circuit_drawer


data = pd.read_csv('/kaggle/input/partisl-ddos/Partial-Friday-WorkingHours-Afternoon-DDos.pcap_ISCX.csv')

# Extract the features (X) and target (Y) values
X = data.iloc[:, :-1].values
Y = data.iloc[:, -1].values

# Perform label encoding on the target values
label_encoder = LabelEncoder()
Y_encoded = label_encoder.fit_transform(Y)

# Split the dataset into training and testing sets
X_train, X_test, Y_train, Y_test = model_selection.train_test_split(X, Y_encoded, test_size=0.33, random_state=42)

# Define the number of qubits
N = 4

def feature_map(X):
    q = QuantumRegister(N)
    c = ClassicalRegister(1)
    qc = QuantumCircuit(q, c)

    for i, x in enumerate(X):
        qc.rx(x, i)

    return qc, c

def variational_circuit(qc, theta):
    for i in range(N-1):
        qc.cx(i, i+1)
    qc.cx(N-1, 0)

    for i in range(N):
        qc.ry(theta[i], i)

    return qc

def quantum_nn(X, theta, simulator=True):
    qc, c = feature_map(X)
    qc = variational_circuit(qc, theta)

    qc.measure(0, c)

    shots = 5000
    backend = Aer.get_backend('qasm_simulator')

    if not simulator:
        shots = 5000
        provider = IBMQ.load_account()
        backend = provider.get_backend('ibmq_athens')

    job = execute(qc, backend, shots=shots)
    result = job.result()
    counts = result.get_counts(qc)

    return counts['1'] / shots

def loss(prediction, target):
    return (prediction - target) ** 2

def gradient(X, Y, theta):
    delta = 0.01
    grad = []
    for i in range(len(theta)):
        dtheta = copy.copy(theta)
        dtheta[i] += delta
        pred1 = quantum_nn(X, dtheta)
        pred2 = quantum_nn(X, theta)
        grad.append((loss(pred1, Y) - loss(pred2, Y)) / delta)
    return np.array(grad)

def accuracy(X, Y, theta):
    counter = 0
    for X_i, Y_i in zip(X, Y):
        prediction = quantum_nn(X_i, theta)
        if prediction < 0.5 and Y_i == 0:
            counter += 1
        elif prediction >= 0.5 and Y_i == 1:
            counter += 1
    return counter / len(Y)

eta = 0.05
loss_list = []
accuracy_list = []
theta = np.ones(N)

print('Epoch \t Loss \t Training Accuracy')

for i in range(30):
    loss_tmp = []
    for X_i, Y_i in zip(X_train, Y_train):
        prediction = quantum_nn(X_i, theta)
        loss_tmp.append(loss(prediction, Y_i))
        theta = theta - eta * gradient(X_i, Y_i, theta)
    loss_list.append(np.mean(loss_tmp))

    acc = accuracy(X_train, Y_train, theta)
    print(f'{i} \t {loss_list[-1]:.3f} \t {acc:.3f}')

    accuracy_list.append(acc)

# Create the circuit diagram
qc, c = feature_map(X_train[0])
qc = variational_circuit(qc, theta)

# Draw the circuit diagram
qc.draw(output='mpl')



import matplotlib.pyplot as plt
plt.plot(accuracy_list)
plt.xlabel('Epoch')
plt.ylabel('Accuracy + Loss')
plt.show

plt.plot(loss_list)
plt.xlabel('Epoch')
plt.ylabel('Accuracy + Loss')
plt.show

from statistics import mean

average_A = mean(accuracy_list)
print("Average Accuracy", average_A)

average_L = mean(loss_list)
print("Average Loss", average_L)


# Calculate the final test loss
test_predictions = [quantum_nn(X_i, theta) for X_i in X_test]
final_test_loss = np.mean([loss(pred, Y_i) for pred, Y_i in zip(test_predictions, Y_test)])
print(f"Final Test Loss: {final_test_loss:.3f}")

# Calculate the final test accuracy
final_test_accuracy = accuracy(X_test, Y_test, theta)
print(f"Final Test Accuracy: {final_test_accuracy:.3f}")
